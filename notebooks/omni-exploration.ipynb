{
 "cells": [
  {
   "metadata": {},
   "cell_type": "markdown",
   "source": [
    "# Omni2 Exploration\n",
    "\n",
    "In this Jupyter Notebook we analyze the given omni dataset values. Especially outlier detection and regularities (e.g., sinusoidal, etc.) are interesting. Also, the general magnitude is interesting."
   ],
   "id": "d63c28e9a8120e0d"
  },
  {
   "metadata": {
    "collapsed": true
   },
   "cell_type": "code",
   "source": [
    "import pandas as pd\n",
    "import matplotlib.pyplot as plt\n",
    "\n",
    "df = pd.read_parquet('../data/preprocessed/aggregated/omni2.parquet')\n",
    "# %matplotlib qt"
   ],
   "id": "initial_id",
   "outputs": [],
   "execution_count": null
  },
  {
   "metadata": {},
   "cell_type": "code",
   "source": "",
   "id": "90551919d9820734",
   "outputs": [],
   "execution_count": null
  },
  {
   "metadata": {},
   "cell_type": "code",
   "source": [
    "# df.ae_index.plot()\n",
    "times = df.index.droplevel(0)\n",
    "plt.plot(times, df['ae_index'])\n",
    "plt.title(\"AE index\")\n",
    "plt.savefig(\"ae-index.png\")\n",
    "plt.show()"
   ],
   "id": "97585d6f65868988",
   "outputs": [],
   "execution_count": null
  }
 ],
 "metadata": {
  "kernelspec": {
   "display_name": "Python 3",
   "language": "python",
   "name": "python3"
  },
  "language_info": {
   "codemirror_mode": {
    "name": "ipython",
    "version": 2
   },
   "file_extension": ".py",
   "mimetype": "text/x-python",
   "name": "python",
   "nbconvert_exporter": "python",
   "pygments_lexer": "ipython2",
   "version": "2.7.6"
  }
 },
 "nbformat": 4,
 "nbformat_minor": 5
}
