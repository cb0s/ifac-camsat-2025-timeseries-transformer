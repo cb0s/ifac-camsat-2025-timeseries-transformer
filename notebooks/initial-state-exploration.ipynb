{
 "cells": [
  {
   "cell_type": "code",
   "id": "initial_id",
   "metadata": {
    "collapsed": true
   },
   "source": [
    "from pathlib import Path\n",
    "\n",
    "import pandas as pd\n",
    "import matplotlib.pyplot as plt\n",
    "%matplotlib notebook"
   ],
   "outputs": [],
   "execution_count": null
  },
  {
   "metadata": {},
   "cell_type": "code",
   "source": "path = Path(\"../data/preprocessed/aggregated/initial_states.parquet\")",
   "id": "14a20d045dd9f3ba",
   "outputs": [],
   "execution_count": null
  },
  {
   "metadata": {},
   "cell_type": "code",
   "source": [
    "df = pd.read_parquet(path)\n",
    "df.info()\n",
    "df.describe()"
   ],
   "id": "1d66d1934199fcbd",
   "outputs": [],
   "execution_count": null
  },
  {
   "metadata": {},
   "cell_type": "code",
   "source": [
    "fig, axes = plt.subplots(2, 3, figsize=(15, 8))\n",
    "names = ['a', 'e', 'i', 'RAAN', 'omega', 'nu']\n",
    "\n",
    "for axis, name in zip(axes.flat, names):\n",
    "    axis.boxplot(df[name], showfliers=False, label=name)\n",
    "    axis.title.set_text(name)\n",
    "\n",
    "fig.tight_layout()\n",
    "fig.savefig(\"initial_states.png\")\n",
    "fig.show()"
   ],
   "id": "92d50560c65d93b4",
   "outputs": [],
   "execution_count": null
  }
 ],
 "metadata": {
  "kernelspec": {
   "display_name": "Python 3",
   "language": "python",
   "name": "python3"
  },
  "language_info": {
   "codemirror_mode": {
    "name": "ipython",
    "version": 2
   },
   "file_extension": ".py",
   "mimetype": "text/x-python",
   "name": "python",
   "nbconvert_exporter": "python",
   "pygments_lexer": "ipython2",
   "version": "2.7.6"
  }
 },
 "nbformat": 4,
 "nbformat_minor": 5
}
