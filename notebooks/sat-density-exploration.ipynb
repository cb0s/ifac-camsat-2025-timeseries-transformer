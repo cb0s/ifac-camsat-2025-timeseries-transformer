{
 "cells": [
  {
   "metadata": {},
   "cell_type": "markdown",
   "source": [
    "# Sat Density Exploration\n",
    "\n",
    "In this Jupyter Notebook we analyze the given sat density values. Especially outlier detection and regularities (e.g., sinusoidal, etc.) are interesting. Also, the general magnitude is interesting. This knowledge can be taken into account when looking also at the other datasets as the `SAT_DENSITY` files contain a `file id` which is how the datasets can be related."
   ],
   "id": "a6c19c15ca5556ea"
  },
  {
   "cell_type": "code",
   "id": "initial_id",
   "metadata": {
    "collapsed": true
   },
   "source": [
    "from pathlib import Path\n",
    "\n",
    "import pandas as pd\n",
    "import matplotlib.pyplot as plt\n",
    "%matplotlib notebook"
   ],
   "outputs": [],
   "execution_count": null
  },
  {
   "metadata": {},
   "cell_type": "code",
   "source": [
    "aggregated_dir = Path('../data/preprocessed/aggregated')\n",
    "champ_path = aggregated_dir / 'champ_-density.feather'\n",
    "gr_of1_path = aggregated_dir / 'gr-of1-density.feather'\n",
    "grace1_path = aggregated_dir / 'grace1-density.feather'\n",
    "grace2_path = aggregated_dir / 'grace2-density.feather'\n",
    "swarma_path = aggregated_dir / 'swarma-density.feather'"
   ],
   "id": "f1dad6f89a85175c",
   "outputs": [],
   "execution_count": null
  },
  {
   "metadata": {},
   "cell_type": "code",
   "source": [
    "df = pd.read_feather(gr_of1_path)\n",
    "df.stack().hist(bins=100)\n",
    "plt.show()"
   ],
   "id": "d18f75ac6f8f06b6",
   "outputs": [],
   "execution_count": null
  },
  {
   "metadata": {},
   "cell_type": "code",
   "source": "df.info()",
   "id": "32ea2e0c6c7912a5",
   "outputs": [],
   "execution_count": null
  },
  {
   "metadata": {},
   "cell_type": "code",
   "source": [
    "filtered_df: pd.DataFrame = df[df['Orbit Mean Density (kg/m^3)'] > -0.0]\n",
    "filtered_df.describe()"
   ],
   "id": "75bd606ace386e3e",
   "outputs": [],
   "execution_count": null
  },
  {
   "metadata": {},
   "cell_type": "code",
   "source": [
    "stacked_df: pd.DataFrame = filtered_df.stack()\n",
    "stacked_df.hist(bins=250)\n",
    "plt.hist()\n",
    "plt.show()"
   ],
   "id": "fd72edcf2a4e958e",
   "outputs": [],
   "execution_count": null
  },
  {
   "metadata": {},
   "cell_type": "markdown",
   "source": [
    "## Combined\n",
    "\n",
    "After looking at all sources individually, a combined analysis."
   ],
   "id": "40b66df981a1ba23"
  },
  {
   "metadata": {},
   "cell_type": "code",
   "source": [
    "paths = [champ_path, gr_of1_path, grace1_path, grace2_path, swarma_path]\n",
    "labels = [\"champ\", \"gr-of1\", \"grace1\", \"grace2\", \"swarma\"]\n",
    "dfs = [pd.read_feather(path) for path in paths]\n",
    "dfs = [*map(lambda _df: _df[_df['Orbit Mean Density (kg/m^3)'] > -0.0].stack(), dfs)]\n",
    "\n",
    "fig, ax = plt.subplots()\n",
    "\n",
    "ax.hist(dfs, bins=500, histtype=\"step\", fill=True, label=labels)\n",
    "fig.legend(loc=\"upper right\")\n",
    "fig.show()"
   ],
   "id": "eb038ee104648dde",
   "outputs": [],
   "execution_count": null
  },
  {
   "metadata": {},
   "cell_type": "code",
   "source": [
    "fig, ax = plt.subplots()\n",
    "\n",
    "ax.hist(dfs, bins=500, histtype=\"step\", fill=True, log=True, label=labels)\n",
    "fig.legend()\n",
    "fig.show()"
   ],
   "id": "a34c2955c9ca89b1",
   "outputs": [],
   "execution_count": null
  },
  {
   "metadata": {},
   "cell_type": "markdown",
   "source": [
    "## Individual analysis\n",
    "\n",
    "Now we plot some files of the dataset individually, to get a feel for the regularities and so forth."
   ],
   "id": "cab8cdcfb1822444"
  },
  {
   "metadata": {},
   "cell_type": "code",
   "source": [
    "import os\n",
    "\n",
    "data_path = Path('../data/preprocessed/SAT_DENSITY')"
   ],
   "id": "29f6f8ea88d60d43",
   "outputs": [],
   "execution_count": null
  },
  {
   "metadata": {},
   "cell_type": "code",
   "source": [
    "files_list = os.listdir(data_path)\n",
    "dfs = [*map(lambda _df: _df[_df['Orbit Mean Density (kg/m^3)'] > -0.0], (pd.read_parquet(data_path / files_list[i]) for i in range(0, len(files_list), len(files_list) // 100)))]\n",
    "df = pd.read_parquet(data_path / files_list[12])\n",
    "df = df[df['Orbit Mean Density (kg/m^3)'] > -0.0]"
   ],
   "id": "2c9b2b0e90610850",
   "outputs": [],
   "execution_count": null
  },
  {
   "metadata": {},
   "cell_type": "code",
   "source": [
    "df.plot()\n",
    "plt.show()"
   ],
   "id": "7e7db738367a1bf6",
   "outputs": [],
   "execution_count": null
  },
  {
   "metadata": {},
   "cell_type": "code",
   "source": [
    "fig, ax = plt.subplots()\n",
    "for df in dfs:\n",
    "    ax.plot(range(df.shape[0]), df['Orbit Mean Density (kg/m^3)'])\n",
    "fig.show()"
   ],
   "id": "4d15bc8a3d99abe1",
   "outputs": [],
   "execution_count": null
  },
  {
   "metadata": {},
   "cell_type": "code",
   "source": [
    "# as confidence intervals for better visibility\n",
    "import numpy as np\n",
    "from scipy.stats import norm\n",
    "\n",
    "# mapping functions\n",
    "def _prepare_df(_df: pd.DataFrame) -> np.ndarray:\n",
    "    _df.loc[_df['Orbit Mean Density (kg/m^3)'] < -0.0, 'Orbit Mean Density (kg/m^3)'] = np.nan\n",
    "    _df.interpolate(inplace=True, limit_direction='both')\n",
    "    return _df.to_numpy().reshape(-1)\n",
    "\n",
    "def _ensure_minimum_points(_arr: np.ndarray, min_points: int) -> np.ndarray:\n",
    "    if _arr.shape[0] < min_points:\n",
    "        padding_size = min_points - _arr.shape[0]\n",
    "        padding_arr = np.full(padding_size, _arr[-1], dtype=_arr.dtype)\n",
    "        return np.nan_to_num(np.concatenate((_arr, padding_arr)), copy=False, nan=padding_arr[0])\n",
    "    return _arr\n",
    "\n",
    "def confidence_intervals(arr: np.ndarray, confidence_level: float = 0.6) -> tuple[np.ndarray, np.ndarray]:\n",
    "    lower_limit, remainder = divmod(arr.shape[0], 1 / (1 - confidence_level))\n",
    "    upper_limit = lower_limit + remainder\n",
    "    lower_limit, upper_limit = int(lower_limit), int(upper_limit)\n",
    "\n",
    "    _lower_bounds, _upper_bounds = np.empty(arr.shape[1], dtype=arr.dtype), np.empty(arr.shape[1], dtype=arr.dtype)\n",
    "    for i in range(arr.shape[1]):\n",
    "        sorted_arr = np.sort(arr[:, i])\n",
    "        _lower_bounds[i], _upper_bounds[i] = sorted_arr[lower_limit], sorted_arr[-upper_limit]\n",
    "\n",
    "    return _lower_bounds, _upper_bounds\n"
   ],
   "id": "468070b97187d0bd",
   "outputs": [],
   "execution_count": null
  },
  {
   "metadata": {},
   "cell_type": "code",
   "source": [
    "fig, ax = plt.subplots()\n",
    "\n",
    "data_points = [*map(lambda _df: _prepare_df(_df), (pd.read_parquet(data_path / file_name) for file_name in files_list))]\n",
    "max_points = max(map(lambda _arr: _arr.shape[0], data_points))\n",
    "data_points = [*filter(lambda _arr: ~np.any(np.isnan(_arr)), map(lambda _df: _ensure_minimum_points(_df, max_points), data_points))]\n",
    "y = np.vstack(data_points)\n",
    "x = np.arange(y.shape[1])\n",
    "\n",
    "lower_bounds, upper_bounds = confidence_intervals(y, confidence_level=0.95)\n",
    "ax.plot(x, np.mean(y, axis=0))\n",
    "ax.fill_between(x, lower_bounds, upper_bounds, alpha=0.5)\n",
    "ax.set_yscale(\"log\")\n",
    "fig.show()"
   ],
   "id": "40a0ed2a8f2feef1",
   "outputs": [],
   "execution_count": null
  },
  {
   "metadata": {},
   "cell_type": "code",
   "source": "%matplotlib notebook",
   "id": "d8d29de8a71ce299",
   "outputs": [],
   "execution_count": null
  }
 ],
 "metadata": {
  "kernelspec": {
   "display_name": "Python 3",
   "language": "python",
   "name": "python3"
  },
  "language_info": {
   "codemirror_mode": {
    "name": "ipython",
    "version": 2
   },
   "file_extension": ".py",
   "mimetype": "text/x-python",
   "name": "python",
   "nbconvert_exporter": "python",
   "pygments_lexer": "ipython2",
   "version": "2.7.6"
  }
 },
 "nbformat": 4,
 "nbformat_minor": 5
}
