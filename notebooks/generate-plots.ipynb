{
 "cells": [
  {
   "cell_type": "code",
   "id": "initial_id",
   "metadata": {
    "collapsed": true
   },
   "source": [
    "# imports\n",
    "from pathlib import Path\n",
    "\n",
    "import torch\n",
    "import numpy as np\n",
    "\n",
    "import matplotlib.pyplot as plt\n",
    "from torch.utils.data import DataLoader\n",
    "\n",
    "from src.data.dataset import RawTrainingDataset, TrainingDataset, TrainingMode, RefinementDataset, RefinementCollator\n",
    "from src.model.loss import ODRMSELoss\n",
    "from src.model.refinement import RefinementTransformer\n",
    "from src.model.residual import TimeSeriesDecoderOnlyTransformer\n",
    "from src.model.scaler import ZTransform"
   ],
   "outputs": [],
   "execution_count": null
  },
  {
   "metadata": {},
   "cell_type": "code",
   "source": [
    "DEVICE = \"cuda:0\"\n",
    "DATA_PATH = Path('../data/training_ds/residual_model_ds.npz')"
   ],
   "id": "5755a35d8461cffb",
   "outputs": [],
   "execution_count": null
  },
  {
   "metadata": {},
   "cell_type": "code",
   "source": [
    "# load models\n",
    "model = TimeSeriesDecoderOnlyTransformer(\n",
    "    904,\n",
    "    432,\n",
    "    112,\n",
    "    4,\n",
    "    4,\n",
    "    4 * 112,\n",
    "    0\n",
    ")\n",
    "model.load_state_dict(torch.load(\"../submission/model.pt\"))\n",
    "model = model.to(DEVICE)\n",
    "model.compile()\n",
    "model.eval()\n",
    "\n",
    "feature_scaler = ZTransform.load(\"../submission/feature_transformer.npz\")\n",
    "result_scaler = ZTransform.load(\"../submission/result_transformer.npz\")"
   ],
   "id": "76db2e18d973c45",
   "outputs": [],
   "execution_count": null
  },
  {
   "metadata": {},
   "cell_type": "code",
   "source": [
    "# load data\n",
    "val_dataset_m1 = TrainingDataset(\n",
    "    raw_dataset=RawTrainingDataset.load(DATA_PATH), input_noise_std=0.0, output_noise_std=0.0,\n",
    "    training_mode=TrainingMode.TRAIN, device=DEVICE, n_features=904\n",
    ")\n",
    "\n",
    "train_loader = DataLoader(val_dataset_m1, batch_size=128, shuffle=False)"
   ],
   "id": "e7c26334e48024f2",
   "outputs": [],
   "execution_count": null
  },
  {
   "metadata": {},
   "cell_type": "code",
   "source": [
    "# get one batch\n",
    "first_batch = next(iter(train_loader))\n",
    "batch_features, batch_target = first_batch\n",
    "\n",
    "print(batch_features.shape, batch_target.shape)"
   ],
   "id": "cd06523623221813",
   "outputs": [],
   "execution_count": null
  },
  {
   "metadata": {},
   "cell_type": "code",
   "source": [
    "# predict output and calculate loss\n",
    "out = model.predict(batch_features)\n",
    "loss = torch.nn.functional.mse_loss(out, batch_target.unsqueeze(-1))\n",
    "odrmse = ODRMSELoss(432 * 10 * 60).forward(out, batch_target.unsqueeze(-1), torch.arange(0, 432, device=DEVICE) * 10 * 60)\n",
    "total_loss = loss + odrmse\n",
    "\n",
    "print(loss.item(), odrmse.item(), total_loss.item())"
   ],
   "id": "f0473f6ad3e601ed",
   "outputs": [],
   "execution_count": null
  },
  {
   "metadata": {},
   "cell_type": "code",
   "source": [
    "index = 7\n",
    "plt.plot(out[index, :, 0].detach().cpu().numpy(), label=\"Residual predictions\")\n",
    "plt.plot(batch_target[index].detach().cpu().numpy(), label=\"Ground truth residuals\")\n",
    "plt.ylabel(\"Z-Transformed residual\")\n",
    "plt.xlabel(\"Time-window ID (10 min. windows)\")\n",
    "plt.legend()\n",
    "plt.savefig(\"results-bad.png\")\n",
    "plt.show()"
   ],
   "id": "544fcc7cc6a6a0fe",
   "outputs": [],
   "execution_count": null
  },
  {
   "metadata": {},
   "cell_type": "code",
   "source": "test = np.load(\"../data/training_ds/residual_model_ds-reduced.npz\")",
   "id": "19e2f561d955a329",
   "outputs": [],
   "execution_count": null
  },
  {
   "metadata": {},
   "cell_type": "code",
   "source": [
    "odrmse_weights = torch.exp(-torch.log(torch.tensor(1e-5)) / 432 * torch.arange(0, 432))\n",
    "\n",
    "def odrmse_score(scaled_out, scaled_msis, scaled_target):\n",
    "    rmse_test = torch.sqrt((scaled_out - scaled_target).pow(2).sum())\n",
    "    rmse_msis = torch.sqrt((scaled_msis - scaled_target).pow(2).sum())\n",
    "    return torch.sum(odrmse_weights * (1 - rmse_test / rmse_msis)) / odrmse_weights.sum()"
   ],
   "id": "f6f1a9b36cf81367",
   "outputs": [],
   "execution_count": null
  },
  {
   "metadata": {},
   "cell_type": "code",
   "source": [
    "out_scaled = torch.as_tensor(result_scaler.reverse_z_transform(out.detach().cpu().squeeze().numpy()))\n",
    "nrlm_predictions = np.load(\"../data/training_ds/residual_model_ds.npz\")['nrlm_predictions']"
   ],
   "id": "1c9f4827597693c9",
   "outputs": [],
   "execution_count": null
  },
  {
   "metadata": {},
   "cell_type": "code",
   "source": "np.isnan(np.load(\"../data/training_ds/residual_model_ds-reduced.npz\")['main_features'][4958:5451])",
   "id": "11e89fb8a2c81dce",
   "outputs": [],
   "execution_count": null
  },
  {
   "metadata": {},
   "cell_type": "code",
   "source": [
    "index = 7\n",
    "true_vals = test['y'][index]\n",
    "nrlm_vals = test['nrlm_predictions'][index]\n",
    "scaled_true_vals = true_vals * test['y_std'] + test['y_mean']\n",
    "plt.plot(nrlm_vals + scaled_true_vals)\n",
    "plt.plot(nrlm_vals) # -(nrlm_vals - nrlm_vals.mean()) / nrlm_vals.std())\n",
    "plt.show()\n"
   ],
   "id": "d5bb3a87d0b69d65",
   "outputs": [],
   "execution_count": null
  },
  {
   "metadata": {},
   "cell_type": "code",
   "source": [
    "import math\n",
    "\n",
    "plt.plot(np.sin(np.arange(1000) * 2 * math.pi / 1000), label=\"Density in Propagated Orbit\")\n",
    "plt.plot(np.zeros(1000, dtype=np.float32), label=\"Average Density of Orbit\")\n",
    "plt.title(\"Density of propagated orbit vs. average density\\nin a \\\"perfect\\\" environment\")\n",
    "plt.xlabel(\"Sample points for a full orbit revolution\")\n",
    "plt.ylabel(\"Z-Transformed density\")\n",
    "plt.legend()\n",
    "plt.savefig(\"avg-vs-propagated-orbit.png\")\n",
    "plt.show()"
   ],
   "id": "30a33dfbdbf0d960",
   "outputs": [],
   "execution_count": null
  },
  {
   "metadata": {},
   "cell_type": "code",
   "source": [
    "import matplotlib.ticker as plticker\n",
    "\n",
    "example = 24\n",
    "out_fft = torch.fft.fft(out[example].squeeze() - out[example].mean().squeeze()).detach().cpu().squeeze().numpy()\n",
    "n = out_fft.size\n",
    "fft_freq = np.fft.fftfreq(n, d=0.1)\n",
    "\n",
    "bounds = 20\n",
    "lb = (bounds // 2 - 1)\n",
    "ub = (bounds // 2 + 1)\n",
    "out_fft = np.concatenate([out_fft[n//2+1:], out_fft[:n//2]])[lb * n // bounds : ub * n // bounds]\n",
    "fft_freq = np.concatenate([fft_freq[n//2+1:], fft_freq[:n//2]])[lb * n // bounds : ub * n // bounds]\n",
    "\n",
    "plt.figure(figsize=(12, 8))\n",
    "tickers = plticker.MultipleLocator(base=0.1)\n",
    "plt.plot(fft_freq, out_fft)\n",
    "plt.gca().xaxis.set_major_locator(plt.MultipleLocator(0.025))\n",
    "plt.xticks(rotation=60)\n",
    "# plt.xaxis.set_major_formatter(plticker.FormatStrFormatter('%0.1f'))\n",
    "plt.grid(True)\n",
    "# plt.plot(out_fft)\n",
    "# plt.plot(out[24].detach().cpu().squeeze().cpu())\n",
    "\n",
    "plt.title(\"Frequency analysis of residuals\")\n",
    "plt.xlabel(\"Frequency (1/600 Hz)\")\n",
    "plt.ylabel(\"Intensity of frequency\")\n",
    "plt.savefig(\"fft-freq.png\")\n",
    "plt.show()\n",
    "\n",
    "fft_freq[out_fft.argmax()]"
   ],
   "id": "d384cceba6a142a2",
   "outputs": [],
   "execution_count": null
  }
 ],
 "metadata": {
  "kernelspec": {
   "display_name": "Python 3",
   "language": "python",
   "name": "python3"
  },
  "language_info": {
   "codemirror_mode": {
    "name": "ipython",
    "version": 2
   },
   "file_extension": ".py",
   "mimetype": "text/x-python",
   "name": "python",
   "nbconvert_exporter": "python",
   "pygments_lexer": "ipython2",
   "version": "2.7.6"
  }
 },
 "nbformat": 4,
 "nbformat_minor": 5
}
